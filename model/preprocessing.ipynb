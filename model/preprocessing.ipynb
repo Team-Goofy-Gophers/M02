{
 "cells": [
  {
   "cell_type": "code",
   "execution_count": 1,
   "id": "6f8e3955",
   "metadata": {},
   "outputs": [],
   "source": [
    "import os\n",
    "import mimetypes\n",
    "import pdfplumber\n",
    "import pytesseract\n",
    "from PIL import Image\n",
    "import pandas as pd\n",
    "import json\n",
    "\n",
    "BLOCK_SIZE = 8\n",
    "\n",
    "def extract_and_chunk(file_path):\n",
    "    filetype = mimetypes.guess_type(file_path)[0]\n",
    "\n",
    "    if filetype == 'application/pdf':\n",
    "        return chunk_pdf(file_path)\n",
    "    elif filetype == 'text/plain':\n",
    "        return chunk_text(open(file_path).read())\n",
    "    elif filetype == 'text/csv':\n",
    "        return chunk_text(pd.read_csv(file_path).to_string(index=False))\n",
    "    elif filetype == 'application/json':\n",
    "        return chunk_text(json.dumps(json.load(open(file_path)), indent=2))\n",
    "    elif filetype and filetype.startswith('image/'):\n",
    "        return [handle_image(file_path)]\n",
    "    else:\n",
    "        raise ValueError(\"Unsupported file type.\")\n",
    "\n",
    "def chunk_pdf(file_path):\n",
    "    with pdfplumber.open(file_path) as pdf:\n",
    "        pages = [page.extract_text() or \"\" for page in pdf.pages]\n",
    "        return [\"\\n\".join(pages[i:i+BLOCK_SIZE]) for i in range(0, len(pages), BLOCK_SIZE)]\n",
    "\n",
    "def chunk_text(text):\n",
    "    paras = text.split(\"\\n\\n\")\n",
    "    return [\"\\n\\n\".join(paras[i:i+BLOCK_SIZE]) for i in range(0, len(paras), BLOCK_SIZE)]\n",
    "\n",
    "def handle_image(file_path):\n",
    "    text = pytesseract.image_to_string(Image.open(file_path)).strip()\n",
    "    if len(text.split()) > 10:\n",
    "        return text \n",
    "    else:\n",
    "        return f\"[IMAGE]{file_path}\"\n"
   ]
  },
  {
   "cell_type": "code",
   "execution_count": 2,
   "id": "d2732ec2",
   "metadata": {},
   "outputs": [],
   "source": [
    "import os\n",
    "import mimetypes\n",
    "\n",
    "def detect_and_extract_text(file_path):\n",
    "    filetype = mimetypes.guess_type(file_path)[0]\n",
    "\n",
    "    if filetype == 'application/pdf':\n",
    "        return extract_text_from_pdf(file_path)\n",
    "    elif filetype == 'text/plain':\n",
    "        return extract_text_from_txt(file_path)\n",
    "    elif filetype == 'text/csv':\n",
    "        return extract_text_from_csv(file_path)\n",
    "    elif filetype == 'application/json':\n",
    "        return extract_text_from_json(file_path)\n",
    "    elif filetype and filetype.startswith('image/'):\n",
    "        return extract_text_from_image(file_path)\n",
    "    else:\n",
    "        raise ValueError(\"Unsupported file type.\")"
   ]
  },
  {
   "cell_type": "code",
   "execution_count": 35,
   "id": "26eefa3f",
   "metadata": {},
   "outputs": [],
   "source": [
    "from PIL import Image\n",
    "from google import genai\n",
    "import os\n",
    "import dotenv\n",
    "dotenv.load_dotenv()\n",
    "\n",
    "client = genai.Client(api_key=os.getenv(\"GEMINI_API_KEY\"))\n",
    "\n",
    "def convert_to_markdown_with_gemini(content):\n",
    "    if content.startswith(\"[IMAGE]\"):\n",
    "        path = content.replace(\"[IMAGE]\", \"\").strip()\n",
    "        image = Image.open(path)\n",
    "        response = client.models.generate_content(\n",
    "            model=\"gemini-2.0-flash\",\n",
    "            contents=[image, \"\"\"Generate a single-line caption for the image in plain text. Do not include any Markdown formatting or image syntax—only output the caption itself.\"\"\"]\n",
    "        )\n",
    "        caption = response.text.strip()\n",
    "        return f\"![{caption}]({os.path.basename(path)})\"\n",
    "    \n",
    "    else:\n",
    "        prompt = \"\"\"Generate only the Markdown for the following content. The output should use actual line breaks and spacing as required by Markdown syntax—do not include \\n, escaped characters, or any other formatting artifacts. The result should be ready to paste directly into a .md file and render correctly.\"\"\"\n",
    "        response = client.models.generate_content(\n",
    "            model=\"gemini-2.0-flash\",\n",
    "            contents=[content, prompt]\n",
    "        )\n",
    "\n",
    "        return response.text.strip()"
   ]
  },
  {
   "cell_type": "code",
   "execution_count": null,
   "id": "cd1a4980",
   "metadata": {},
   "outputs": [],
   "source": [
    "import requests\n",
    "import uuid\n",
    "def pipeline(file_path):\n",
    "    content_blocks = extract_and_chunk(file_path)\n",
    "    markdown_blocks = [convert_to_markdown_with_gemini(block) for block in content_blocks]\n",
    "    full_markdown = \"\\n\\n\".join(markdown_blocks)\n",
    "    requests.post(\"http://localhost:9876/addData\", json={\"id\": uuid.uuid4().hex,\"text\": full_markdown})\n",
    "    print(full_markdown)\n",
    "    return full_markdown"
   ]
  },
  {
   "cell_type": "code",
   "execution_count": 33,
   "id": "4c921fcc",
   "metadata": {},
   "outputs": [
    {
     "name": "stdout",
     "output_type": "stream",
     "text": [
      "```markdown\n",
      "| Event Name              | Team Reg | Team Part | External Reg | External Part | 1st Reg | 1st Part | 2nd Reg | 2nd Part | 2nd Lateral Reg | 2nd Lateral Part | 3rd Reg | 3rd Part | 3rd Lateral Reg | 3rd Lateral Part | 4th Reg | 4th Part | 4th Lateral Reg | 4th Lateral Part |\n",
      "|-------------------------|----------|-----------|--------------|---------------|---------|----------|---------|----------|-----------------|--------------------|---------|----------|-----------------|--------------------|---------|----------|-----------------|--------------------|\n",
      "| Animeverse              | 45       | 39        | 18           | 15            | 53      | 51       | 29      | 29       | 8               | 6                  | 13      | 11       | 1               | 1                  | 1       | 1        | 1               | 1                  |\n",
      "| Locked in Reality       | 38       | 32        | 21           | 15            | 51      | 51       | 24      | 13       | 1               | 0                  | 13      | 13       | 0               | 0                  | 0       | 0        | 0               | 0                  |\n",
      "| Bits with Benefits      | 96       | 42        | 19           | 13            | 15      | 3        | 35      | 11       | 1               | 1                  | 20      | 13       | 1               | 0                  | 4       | 1        | 0               | 0                  |\n",
      "| Robo Soccer             | 31       | 27        | 81           | 75            | 3       | 3        | 8       | 8        | 1               | 1                  | 9       | 8        | 2               | 2                  | 2       | 2        | 0               | 0                  |\n",
      "| Engine Overhaul         | 12       | 10        | 6            | 6             | 3       | 3        | 8       | 8        | 4               | 3                  | 9       | 7        | 2               | 2                  | 1       | 0        | 0               | 0                  |\n",
      "| JAM                     | 28       | 16        | 11           | 7             | 5       | 2        | 5       | 2        | 0               | 0                  | 7       | 5        | 0               | 0                  | 0       | 0        | 0               | 0                  |\n",
      "| Roadies                 | 126      | 99        | 49           | 47            | 77      | 50       | 42      | 34       | 6               | 6                  | 23      | 13       | 2               | 2                  | 0       | 0        | 2               | 1                  |\n",
      "| Cipher Chase            | 78       | 61        | 25           | 19            | 22      | 16       | 19      | 15       | 0               | 0                  | 10      | 9        | 1               | 1                  | 0       | 0        | 1               | 1                  |\n",
      "| Paint and Pixels        | 0        | 0         | 0            | 0             | 0       | 0        | 0       | 0        | 0               | 0                  | 0       | 0        | 0               | 0                  | 0       | 0        | 0               | 0                  |\n",
      "| Sherlocked              | 158      | 118       | 79           | 67            | 124     | 95       | 59      | 42       | 4               | 1                  | 37      | 28       | 0               | 0                  | 1       | 0        | 0               | 0                  |\n",
      "| Respawn - Valorant      | 11       | 10        | 12           | 11            | 19      | 19       | 5       | 5        | 0               | 0                  | 12      | 12       | 0               | 0                  | 3       | 3        | 0               | 0                  |\n",
      "| Respawn - BGMI          | 20       | 18        | 16           | 15            | 32      | 32       | 21      | 21       | 1               | 1                  | 3       | 1        | 2               | 2                  | 0       | 0        | 0               | 0                  |\n",
      "| Respawn - Mini Militia  | 16       | 14        | 0            | 0             | 41      | 39       | 8       | 8        | 4               | 4                  | 15      | 13       | 0               | 0                  | 0       | 0        | 0               | 0                  |\n",
      "| Respawn - FIFA          | 43       | 18        | 10           | 4             | 11      | 1        | 6       | 4        | 1               | 1                  | 13      | 8        | 0               | 0                  | 2       | 0        | 0               | 0                  |\n",
      "| Respawn - CODM          | 13       | 12        | 8            | 7             | 26      | 26       | 24      | 24       | 1               | 1                  | 0       | 0        | 0               | 0                  | 0       | 0        | 0               | 0                  |\n",
      "| Code Relay              | 33       | 23        | 22           | 15            | 13      | 5        | 13      | 9        | 0               | 0                  | 16      | 16       | 0               | 0                  | 0       | 0        | 0               | 0                  |\n",
      "| Antakshari              | 31       | 23        | 17           | 10            | 18      | 16       | 15      | 12       | 0               | 0                  | 9       | 8        | 0               | 0                  | 0       | 0        | 0               | 0                  |\n",
      "| Wired!                  | 62       | 47        | 41           | 34            | 40      | 32       | 21      | 16       | 3               | 0                  | 14      | 12       | 1               | 0                  | 0       | 0        | 0               | 0                  |\n",
      "| Talent House X          | 43       | 31        | 12           | 10            | 6       | 5        | 14      | 10       | 0               | 0                  | 6       | 4        | 0               | 0                  | 3       | 2        | 0               | 0                  |\n",
      "| Robo Race               | 24       | 21        | 60           | 57            | 4       | 4        | 11      | 11       | 0               | 0                  | 5       | 5        | 2               | 2                  | 2       | 2        | 0               | 0                  |\n",
      "| Lazzerena               | 125      | 88        | 37           | 23            | 184     | 154      | 79      | 47       | 7               | 5                  | 74      | 37       | 12              | 12                 | 6       | 2        | 5               | 5                  |\n",
      "| Bomb Squad              | 65       | 40        | 40           | 27            | 35      | 24       | 21      | 8        | 2               | 0                  | 21      | 18       | 0               | 0                  | 4       | 2        | 0               | 0                  |\n",
      "| Lakshman Rekha          | 22       | 22        | 42           | 42            | 4       | 4        | 12      | 12       | 1               | 1                  | 5       | 5        | 1               | 1                  | 1       | 1        | 0               | 0                  |\n",
      "| Bob the Builder         | 67       | 44        | 47           | 34            | 29      | 11       | 20      | 15       | 0               | 0                  | 19      | 17       | 3               | 3                  | 5       | 5        | 1               | 1                  |\n",
      "| Meme War                | 63       | 48        | 44           | 38            | 31      | 24       | 25      | 18       | 1               | 0                  | 20      | 13       | 1               | 1                  | 2       | 2        | 0               | 0                  |\n",
      "| Spinfinite Logic        | 23       | 18        | 10           | 10            | 8       | 6        | 13      | 11       | 2               | 0                  | 9       | 5        | 0               | 0                  | 0       | 0        | 3               | 3                  |\n",
      "| Escape Room             | 123      | 107       | 36           | 27            | 117     | 107      | 66      | 57       | 5               | 4                  | 20      | 18       | 0               | 0                  | 0       | 0        | 0               | 0                  |\n",
      "| Thinking Cap            | 0        | 0         | 0            | 0             | 0       | 0        | 0       | 0        | 0               | 0                  | 0       | 0        | 0               | 0                  | 0       | 0        | 0               | 0                  |\n",
      "| MAD AD                  | 8        | 5         | 21           | 21            | 0       | 0        | 5       | 2        | 0               | 0                  | 6       | 6        | 0               | 0                  | 0       | 0        | 0               | 0                  |\n",
      "| Art Duet                | 13       | 8         | 7            | 4             | 9       | 9        | 3       | 3        | 0               | 0                  | 3       | 0        | 2               | 0                  | 0       | 0        | 0               | 0                  |\n",
      "| Battle of Bands         | 6        | 6         | 35           | 35            | 0       | 0        | 2       | 2        | 0               | 0                  | 3       | 3        | 0               | 0                  | 3       | 3        | 0               | 0                  |\n",
      "| Couture                 | 5        | 4         | 47           | 47            | 0       | 0        | 1       | 0        | 0               | 0                  | 0       | 0        | 0               | 0                  | 0       | 0        | 0               | 0                  |\n",
      "| Digital Heist           | 80       | 62        | 41           | 33            | 41      | 29       | 47      | 38       | 0               | 0                  | 21      | 17       | 1               | 1                  | 2       | 0        | 4               | 4                  |\n",
      "| Hogathon                | 222      | 81        | 72           | 30            | 86      | 27       | 39      | 13       | 3               | 1                  | 16      | 8        | 2               | 0                  | 4       | 2        | 0               | 0                  |\n",
      "| Improv                  | 21       | 17        | 13           | 7             | 13      | 13       | 12      | 10       | 0               | 0                  | 3       | 3        | 0               | 0                  | 0       | 0        | 0               | 0                  |\n",
      "| MELAS                   | 47       | 37        | 30           | 19            | 42      | 39       | 35      | 27       | 1               | 1                  | 14      | 12       | 0               | 0                  | 3       | 3        | 3               | 3                  |\n",
      "| Movidea - Photography   | 36       | 23        | 22           | 17            | 4       | 0        | 2       | 1        | 1               | 0                  | 4       | 3        | 1               | 0                  | 2       | 2        | 0               | 0                  |\n",
      "| Navarasa                | 7        | 6         | 47           | 45            | 5       | 5        | 16      | 16       | 1               | 1                  | 4       | 4        | 0               | 0                  | 0       | 0        | 0               | 0                  |\n",
      "| Robowars                | 10       | 10        | 18           | 18            | 4       | 4        | 2       | 2        | 1               | 1                  | 7       | 7        | 1               | 1                  | 2       | 2        | 0               | 0                  |\n",
      "| Movidea - Videography   | 8        | 7         | 18           | 18            | 0       | 0        | 3       | 3        | 0               | 0                  | 1       | 0        | 0               | 0                  | 0       | 0        | 0               | 0                  |\n",
      "| Stomp That              | 12       | 11        | 95           | 81            | 9       | 9        | 27      | 27       | 0               | 0                  | 11      | 11       | 0               | 0                  | 1       | 1        | 0               | 0                  |\n",
      "| Tulu Tulipu             | 48       | 41        | 18           | 16            | 21      | 15       | 11      | 11       | 3               | 3                  | 20      | 18       | 9               | 7                  | 7       | 7        | 5               | 5                  |\n",
      "| Usaravalli              | 20       | 16        | 6            | 3             | 2       | 2        | 5       | 5        | 0               | 0                  | 6       | 5        | 0               | 0                  | 1       | 1        | 0               | 0                  |\n",
      "| Vibe                    | 40       | 32        | 12           | 10            | 10      | 5        | 10      | 10       | 0               | 0                  | 7       | 6        | 0               | 0                  | 1       | 1        | 0               | 0                  |\n",
      "| Desafio - Boys          | 34       | 16        | 15           | 9             | 11      | 3        | 7       | 4        | 0               | 0                  | 1       | 0        | 0               | 0                  | 0       | 0        | 0               | 0                  |\n",
      "| Desafio - Girls         | 10       | 8         | 2            | 2             | 3       | 2        | 3       | 2        | 0               | 0                  | 2       | 2        | 0               | 0                  | 0       | 0        | 0               | 0                  |\n",
      "```\n"
     ]
    },
    {
     "data": {
      "text/plain": [
       "'```markdown\\n| Event Name              | Team Reg | Team Part | External Reg | External Part | 1st Reg | 1st Part | 2nd Reg | 2nd Part | 2nd Lateral Reg | 2nd Lateral Part | 3rd Reg | 3rd Part | 3rd Lateral Reg | 3rd Lateral Part | 4th Reg | 4th Part | 4th Lateral Reg | 4th Lateral Part |\\n|-------------------------|----------|-----------|--------------|---------------|---------|----------|---------|----------|-----------------|--------------------|---------|----------|-----------------|--------------------|---------|----------|-----------------|--------------------|\\n| Animeverse              | 45       | 39        | 18           | 15            | 53      | 51       | 29      | 29       | 8               | 6                  | 13      | 11       | 1               | 1                  | 1       | 1        | 1               | 1                  |\\n| Locked in Reality       | 38       | 32        | 21           | 15            | 51      | 51       | 24      | 13       | 1               | 0                  | 13      | 13       | 0               | 0                  | 0       | 0        | 0               | 0                  |\\n| Bits with Benefits      | 96       | 42        | 19           | 13            | 15      | 3        | 35      | 11       | 1               | 1                  | 20      | 13       | 1               | 0                  | 4       | 1        | 0               | 0                  |\\n| Robo Soccer             | 31       | 27        | 81           | 75            | 3       | 3        | 8       | 8        | 1               | 1                  | 9       | 8        | 2               | 2                  | 2       | 2        | 0               | 0                  |\\n| Engine Overhaul         | 12       | 10        | 6            | 6             | 3       | 3        | 8       | 8        | 4               | 3                  | 9       | 7        | 2               | 2                  | 1       | 0        | 0               | 0                  |\\n| JAM                     | 28       | 16        | 11           | 7             | 5       | 2        | 5       | 2        | 0               | 0                  | 7       | 5        | 0               | 0                  | 0       | 0        | 0               | 0                  |\\n| Roadies                 | 126      | 99        | 49           | 47            | 77      | 50       | 42      | 34       | 6               | 6                  | 23      | 13       | 2               | 2                  | 0       | 0        | 2               | 1                  |\\n| Cipher Chase            | 78       | 61        | 25           | 19            | 22      | 16       | 19      | 15       | 0               | 0                  | 10      | 9        | 1               | 1                  | 0       | 0        | 1               | 1                  |\\n| Paint and Pixels        | 0        | 0         | 0            | 0             | 0       | 0        | 0       | 0        | 0               | 0                  | 0       | 0        | 0               | 0                  | 0       | 0        | 0               | 0                  |\\n| Sherlocked              | 158      | 118       | 79           | 67            | 124     | 95       | 59      | 42       | 4               | 1                  | 37      | 28       | 0               | 0                  | 1       | 0        | 0               | 0                  |\\n| Respawn - Valorant      | 11       | 10        | 12           | 11            | 19      | 19       | 5       | 5        | 0               | 0                  | 12      | 12       | 0               | 0                  | 3       | 3        | 0               | 0                  |\\n| Respawn - BGMI          | 20       | 18        | 16           | 15            | 32      | 32       | 21      | 21       | 1               | 1                  | 3       | 1        | 2               | 2                  | 0       | 0        | 0               | 0                  |\\n| Respawn - Mini Militia  | 16       | 14        | 0            | 0             | 41      | 39       | 8       | 8        | 4               | 4                  | 15      | 13       | 0               | 0                  | 0       | 0        | 0               | 0                  |\\n| Respawn - FIFA          | 43       | 18        | 10           | 4             | 11      | 1        | 6       | 4        | 1               | 1                  | 13      | 8        | 0               | 0                  | 2       | 0        | 0               | 0                  |\\n| Respawn - CODM          | 13       | 12        | 8            | 7             | 26      | 26       | 24      | 24       | 1               | 1                  | 0       | 0        | 0               | 0                  | 0       | 0        | 0               | 0                  |\\n| Code Relay              | 33       | 23        | 22           | 15            | 13      | 5        | 13      | 9        | 0               | 0                  | 16      | 16       | 0               | 0                  | 0       | 0        | 0               | 0                  |\\n| Antakshari              | 31       | 23        | 17           | 10            | 18      | 16       | 15      | 12       | 0               | 0                  | 9       | 8        | 0               | 0                  | 0       | 0        | 0               | 0                  |\\n| Wired!                  | 62       | 47        | 41           | 34            | 40      | 32       | 21      | 16       | 3               | 0                  | 14      | 12       | 1               | 0                  | 0       | 0        | 0               | 0                  |\\n| Talent House X          | 43       | 31        | 12           | 10            | 6       | 5        | 14      | 10       | 0               | 0                  | 6       | 4        | 0               | 0                  | 3       | 2        | 0               | 0                  |\\n| Robo Race               | 24       | 21        | 60           | 57            | 4       | 4        | 11      | 11       | 0               | 0                  | 5       | 5        | 2               | 2                  | 2       | 2        | 0               | 0                  |\\n| Lazzerena               | 125      | 88        | 37           | 23            | 184     | 154      | 79      | 47       | 7               | 5                  | 74      | 37       | 12              | 12                 | 6       | 2        | 5               | 5                  |\\n| Bomb Squad              | 65       | 40        | 40           | 27            | 35      | 24       | 21      | 8        | 2               | 0                  | 21      | 18       | 0               | 0                  | 4       | 2        | 0               | 0                  |\\n| Lakshman Rekha          | 22       | 22        | 42           | 42            | 4       | 4        | 12      | 12       | 1               | 1                  | 5       | 5        | 1               | 1                  | 1       | 1        | 0               | 0                  |\\n| Bob the Builder         | 67       | 44        | 47           | 34            | 29      | 11       | 20      | 15       | 0               | 0                  | 19      | 17       | 3               | 3                  | 5       | 5        | 1               | 1                  |\\n| Meme War                | 63       | 48        | 44           | 38            | 31      | 24       | 25      | 18       | 1               | 0                  | 20      | 13       | 1               | 1                  | 2       | 2        | 0               | 0                  |\\n| Spinfinite Logic        | 23       | 18        | 10           | 10            | 8       | 6        | 13      | 11       | 2               | 0                  | 9       | 5        | 0               | 0                  | 0       | 0        | 3               | 3                  |\\n| Escape Room             | 123      | 107       | 36           | 27            | 117     | 107      | 66      | 57       | 5               | 4                  | 20      | 18       | 0               | 0                  | 0       | 0        | 0               | 0                  |\\n| Thinking Cap            | 0        | 0         | 0            | 0             | 0       | 0        | 0       | 0        | 0               | 0                  | 0       | 0        | 0               | 0                  | 0       | 0        | 0               | 0                  |\\n| MAD AD                  | 8        | 5         | 21           | 21            | 0       | 0        | 5       | 2        | 0               | 0                  | 6       | 6        | 0               | 0                  | 0       | 0        | 0               | 0                  |\\n| Art Duet                | 13       | 8         | 7            | 4             | 9       | 9        | 3       | 3        | 0               | 0                  | 3       | 0        | 2               | 0                  | 0       | 0        | 0               | 0                  |\\n| Battle of Bands         | 6        | 6         | 35           | 35            | 0       | 0        | 2       | 2        | 0               | 0                  | 3       | 3        | 0               | 0                  | 3       | 3        | 0               | 0                  |\\n| Couture                 | 5        | 4         | 47           | 47            | 0       | 0        | 1       | 0        | 0               | 0                  | 0       | 0        | 0               | 0                  | 0       | 0        | 0               | 0                  |\\n| Digital Heist           | 80       | 62        | 41           | 33            | 41      | 29       | 47      | 38       | 0               | 0                  | 21      | 17       | 1               | 1                  | 2       | 0        | 4               | 4                  |\\n| Hogathon                | 222      | 81        | 72           | 30            | 86      | 27       | 39      | 13       | 3               | 1                  | 16      | 8        | 2               | 0                  | 4       | 2        | 0               | 0                  |\\n| Improv                  | 21       | 17        | 13           | 7             | 13      | 13       | 12      | 10       | 0               | 0                  | 3       | 3        | 0               | 0                  | 0       | 0        | 0               | 0                  |\\n| MELAS                   | 47       | 37        | 30           | 19            | 42      | 39       | 35      | 27       | 1               | 1                  | 14      | 12       | 0               | 0                  | 3       | 3        | 3               | 3                  |\\n| Movidea - Photography   | 36       | 23        | 22           | 17            | 4       | 0        | 2       | 1        | 1               | 0                  | 4       | 3        | 1               | 0                  | 2       | 2        | 0               | 0                  |\\n| Navarasa                | 7        | 6         | 47           | 45            | 5       | 5        | 16      | 16       | 1               | 1                  | 4       | 4        | 0               | 0                  | 0       | 0        | 0               | 0                  |\\n| Robowars                | 10       | 10        | 18           | 18            | 4       | 4        | 2       | 2        | 1               | 1                  | 7       | 7        | 1               | 1                  | 2       | 2        | 0               | 0                  |\\n| Movidea - Videography   | 8        | 7         | 18           | 18            | 0       | 0        | 3       | 3        | 0               | 0                  | 1       | 0        | 0               | 0                  | 0       | 0        | 0               | 0                  |\\n| Stomp That              | 12       | 11        | 95           | 81            | 9       | 9        | 27      | 27       | 0               | 0                  | 11      | 11       | 0               | 0                  | 1       | 1        | 0               | 0                  |\\n| Tulu Tulipu             | 48       | 41        | 18           | 16            | 21      | 15       | 11      | 11       | 3               | 3                  | 20      | 18       | 9               | 7                  | 7       | 7        | 5               | 5                  |\\n| Usaravalli              | 20       | 16        | 6            | 3             | 2       | 2        | 5       | 5        | 0               | 0                  | 6       | 5        | 0               | 0                  | 1       | 1        | 0               | 0                  |\\n| Vibe                    | 40       | 32        | 12           | 10            | 10      | 5        | 10      | 10       | 0               | 0                  | 7       | 6        | 0               | 0                  | 1       | 1        | 0               | 0                  |\\n| Desafio - Boys          | 34       | 16        | 15           | 9             | 11      | 3        | 7       | 4        | 0               | 0                  | 1       | 0        | 0               | 0                  | 0       | 0        | 0               | 0                  |\\n| Desafio - Girls         | 10       | 8         | 2            | 2             | 3       | 2        | 3       | 2        | 0               | 0                  | 2       | 2        | 0               | 0                  | 0       | 0        | 0               | 0                  |\\n```'"
      ]
     },
     "execution_count": 33,
     "metadata": {},
     "output_type": "execute_result"
    }
   ],
   "source": [
    "# pipeline(\"./cat.jpg\")\n",
    "# pipeline(\"./test-123.pdf\")\n",
    "pipeline('./emc-2.csv')\n",
    "# pipeline('./ss.png')\n",
    "# pipeline('./emc-2.json')"
   ]
  },
  {
   "cell_type": "code",
   "execution_count": 32,
   "id": "4932108e",
   "metadata": {},
   "outputs": [
    {
     "name": "stdout",
     "output_type": "stream",
     "text": [
      "{'results': [{'id': 'bc42a5a8662345308cd073a39074af08', 'text': '![A grey and white cat with wide eyes looking intently.](cat.jpg)'}, {'id': 'doc5', 'text': 'Search is done using a text query and returns the top N similar documents.'}, {'id': 'doc2', 'text': 'ChromaDB is used for managing and querying embeddings efficiently.'}], 'status': 'success'}\n"
     ]
    }
   ],
   "source": [
    "searchResp = requests.post(\"http://localhost:9876/searchData\", json={\n",
    "  \"text\": \"sherlocked\",\n",
    "  \"n_results\": 3\n",
    "})\n",
    "print(searchResp.json())"
   ]
  },
  {
   "cell_type": "code",
   "execution_count": null,
   "id": "687153a5",
   "metadata": {},
   "outputs": [],
   "source": []
  }
 ],
 "metadata": {
  "kernelspec": {
   "display_name": "htf",
   "language": "python",
   "name": "python3"
  },
  "language_info": {
   "codemirror_mode": {
    "name": "ipython",
    "version": 3
   },
   "file_extension": ".py",
   "mimetype": "text/x-python",
   "name": "python",
   "nbconvert_exporter": "python",
   "pygments_lexer": "ipython3",
   "version": "3.10.16"
  }
 },
 "nbformat": 4,
 "nbformat_minor": 5
}
