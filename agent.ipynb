{
 "cells": [
  {
   "cell_type": "code",
   "execution_count": 71,
   "id": "b3a36d1a",
   "metadata": {},
   "outputs": [
    {
     "data": {
      "text/plain": [
       "True"
      ]
     },
     "execution_count": 71,
     "metadata": {},
     "output_type": "execute_result"
    }
   ],
   "source": [
    "from typing import TypedDict, List, Annotated, Union\n",
    "from langgraph.graph.message import add_messages\n",
    "from google import genai\n",
    "import dotenv, os\n",
    "from langgraph.graph import StateGraph, END, START\n",
    "from model.db import chroma_client\n",
    "from google.genai import types\n",
    "import requests, json\n",
    "\n",
    "dotenv.load_dotenv()"
   ]
  },
  {
   "cell_type": "code",
   "execution_count": 72,
   "id": "b6fc5234",
   "metadata": {},
   "outputs": [],
   "source": [
    "client = genai.Client(api_key=os.getenv(\"GEMINI_API_KEY\"))\n",
    "MODEL = \"gemini-2.0-flash\""
   ]
  },
  {
   "cell_type": "code",
   "execution_count": 73,
   "id": "34da0dbd",
   "metadata": {},
   "outputs": [],
   "source": [
    "class SessionState(TypedDict):\n",
    "    id: str ## unique identifier for the session as well as collection name\n",
    "    session_name: str ## name of the session\n",
    "    \n",
    "    files: List[dict]\n",
    "    messages: Annotated[List[dict], add_messages]\n",
    "    \n",
    "    invoke: str"
   ]
  },
  {
   "cell_type": "code",
   "execution_count": 130,
   "id": "c0b2e73a",
   "metadata": {},
   "outputs": [],
   "source": [
    "def interface_agent(state: SessionState):\n",
    "    print(\"state\", state[\"invoke\"])\n",
    "    if state.get(\"invoke\") == \"message\":\n",
    "        state[\"invoke\"] = \"classify\"\n",
    "        return {\n",
    "            \"next_nodes\": [\"user_message_classifier\"],  # Specify the next node(s)\n",
    "            \"state\": state  # Return the updated state\n",
    "        }\n",
    "    \n",
    "    # return { **state, \"invoke\": state.get(\"invoke\") }\n",
    "    if state.get(\"invoke\") == \"done\" or state.get(\"invoke\") == \"ExtractData\":\n",
    "        return {\n",
    "            \"next_nodes\": [END],  # Indicate the end of the graph\n",
    "            \"state\": state  # Return the updated state\n",
    "        }\n",
    "        "
   ]
  },
  {
   "cell_type": "code",
   "execution_count": null,
   "id": "5c60521a",
   "metadata": {},
   "outputs": [],
   "source": [
    "def user_message_classifier(state: SessionState):\n",
    "    system_prompt = '''Role: You are a classifier agent in an agentic AI system. Your task is to analyze user queries and determine the correct action the system should take. You must classify the intent of each user message into one of the following categories:\n",
    "\n",
    "    🔹 Classification Categories:\n",
    "    UpdateContext\n",
    "    The user wants to store information in the agent's internal state for future reference.\n",
    "    ➤ Examples:\n",
    "\n",
    "    \"The client's name is John.\"\n",
    "\n",
    "    \"We're organizing a conference on June 5th.\"\n",
    "\n",
    "    \"Add this to our team knowledge.\"\n",
    "\n",
    "    SuggestOrCreateSchema\n",
    "    The user is requesting help designing a schema or structured format to extract information.\n",
    "    ➤ Examples:\n",
    "\n",
    "    \"Can you create a schema for extracting details from job applications?\"\n",
    "\n",
    "    \"Suggest a structure to capture meeting notes.\"\n",
    "\n",
    "    \"What format should I use to store bug report info?\"\n",
    "\n",
    "    ExtractData\n",
    "    The user provides a schema and wants you to apply it to extract structured data from text.\n",
    "    design the shcema in the form of json string based on the user request\n",
    "    ➤ Examples:\n",
    "\n",
    "    \"Here's a schema: {name, date, location}. Extract this from the paragraph below.\"\n",
    "\n",
    "    \"Use this format and pull details from the email.\"\n",
    "    \n",
    "    \"extract data with fileds including title, name and age\"\n",
    "\n",
    "    \"Apply this structure: {title, author, summary} to the following.\n",
    "    \n",
    "    ## Output Format:\n",
    "Return your response as a JSON object with the following fields:\n",
    "\n",
    "{\n",
    "  \"classification\": \"UpdateContext\" | \"SuggestOrCreateSchema\" | \"UseProvidedSchema\",\n",
    "  \"reason\": \"Brief explanation to use it as a prompt for the next agent\",\n",
    "  \"schema\": \"The schema to be used for the next agent(used in ExtractData)\",\n",
    "  \"update_context\": \"The context to be updated in the agent's internal state(used in UpdateContext)\",\n",
    "}\n",
    "'''\n",
    "\n",
    "    # response = requests.post(\n",
    "    #     \"http://147.93.29.19:9876/searchData\",\n",
    "    #     json={\n",
    "    #         \"n_results\": 1,\n",
    "    #         \"text\": state[\"messages\"][-1].content,\n",
    "    #         \"collection_id\": state[\"id\"]\n",
    "    #     }\n",
    "    # )\n",
    "    \n",
    "    \n",
    "    query = state[\"messages\"][-1].content\n",
    "    \n",
    "    response = client.models.generate_content(\n",
    "        model=MODEL,\n",
    "        config=types.GenerateContentConfig(system_instruction=system_prompt),\n",
    "        contents=query\n",
    "    )\n",
    "    \n",
    "    \n",
    "    response = response.text\n",
    "    response = json.loads(response[7:-3])\n",
    "    val = response[\"classification\"]\n",
    "    state[\"invoke\"] = val\n",
    "    \n",
    "    return state"
   ]
  },
  {
   "cell_type": "code",
   "execution_count": null,
   "id": "bf26d44d",
   "metadata": {},
   "outputs": [],
   "source": [
    "def schema_definer(state: SessionState):\n",
    "    system_prompt = '''Role:\n",
    "You are a Schema Design Agent operating within an agentic AI flow. Your primary responsibility is to analyze markdown-formatted data parsed from diverse file types (e.g., CSVs, PDFs, JSON, PowerPoint slides, and others), understand its structure and semantics, and produce a well-formed structured schema that accurately represents the data model.\n",
    "\n",
    "Objective:\n",
    "From the given markdown content, extract entities, fields, relationships, and data types. Then output a structured schema in a clean, standardized format (preferably JSON Schema, Prisma model, or any custom internal format as instructed).\n",
    "\n",
    "Instructions:\n",
    "Parse for structure:\n",
    "Understand the data's tabular, hierarchical, or semantic layout. Recognize headings, bullet lists, tables, and key-value formats in the markdown.\n",
    "\n",
    "Identify Entities and Fields:\n",
    "\n",
    "Identify all possible entities (tables/objects/classes).\n",
    "\n",
    "For each entity, detect relevant fields/attributes, along with their data types and descriptions (if implied).\n",
    "\n",
    "Include primary keys, foreign keys, or any obvious relationships.\n",
    "\n",
    "Infer Data Types:\n",
    "Infer primitive types (string, number, boolean, date, enum, object, array) from the content or examples.\n",
    "\n",
    "Preserve Naming Semantics:\n",
    "Use semantic, human-readable names where available. Normalize naming conventions (e.g., camelCase, snake_case) depending on the final output format.\n",
    "\n",
    "Output Format:\n",
    "Return the schema in a structured format (e.g., JSON Schema, Prisma schema, or custom format as specified in the query context).\n",
    "\n",
    "Handle Ambiguities Gracefully:\n",
    "When uncertain, make an informed guess and add comments or flags for human review.\n",
    "\n",
    "No assumptions from external context:\n",
    "Only rely on what's present in the provided markdown. Don't hallucinate fields or metadata not evident in the data.\n",
    "\n",
    "Example Inputs:\n",
    "Tables from parsed CSVs embedded in markdown\n",
    "\n",
    "Bullet points representing properties of a system (from PDFs)\n",
    "\n",
    "Nested key-value blocks (from JSON)\n",
    "\n",
    "Slide notes formatted as markdown (from PowerPoint)\n",
    "\n",
    "Example Output:\n",
    "{\n",
    "  \"entities\": [\n",
    "    {\n",
    "      \"name\": \"User\",\n",
    "      \"fields\": [\n",
    "        {\"name\": \"id\", \"type\": \"string\", \"description\": \"Unique identifier\"},\n",
    "        {\"name\": \"email\", \"type\": \"string\"},\n",
    "        {\"name\": \"signupDate\", \"type\": \"date\"}\n",
    "      ]\n",
    "    },\n",
    "    {\n",
    "      \"name\": \"Order\",\n",
    "      \"fields\": [\n",
    "        {\"name\": \"orderId\", \"type\": \"string\"},\n",
    "        {\"name\": \"userId\", \"type\": \"string\", \"relation\": \"User.id\"},\n",
    "        {\"name\": \"amount\", \"type\": \"number\"}\n",
    "      ]\n",
    "    }\n",
    "  ]\n",
    "}'''"
   ]
  },
  {
   "cell_type": "code",
   "execution_count": 132,
   "id": "b42aaddf",
   "metadata": {},
   "outputs": [],
   "source": [
    "graph_builder = StateGraph(SessionState)"
   ]
  },
  {
   "cell_type": "code",
   "execution_count": 133,
   "id": "4c2b729b",
   "metadata": {},
   "outputs": [
    {
     "data": {
      "text/plain": [
       "<langgraph.graph.state.StateGraph at 0x73127e6cf370>"
      ]
     },
     "execution_count": 133,
     "metadata": {},
     "output_type": "execute_result"
    }
   ],
   "source": [
    "graph_builder.add_node(\n",
    "    \"interface_agent\", interface_agent\n",
    ")\n",
    "graph_builder.add_node(\n",
    "    \"user_message_classifier\", user_message_classifier\n",
    ")\n",
    "\n",
    "graph_builder.set_entry_point(\"interface_agent\")\n",
    "graph_builder.add_conditional_edges(\n",
    "    \"interface_agent\",\n",
    "    lambda state: interface_agent(state)[\"next_nodes\"],  # Extract next_nodes\n",
    "    {\n",
    "        \"user_message_classifier\": \"user_message_classifier\",\n",
    "        END: END\n",
    "    },\n",
    ")\n",
    "graph_builder.add_edge(\"user_message_classifier\", \"interface_agent\")"
   ]
  },
  {
   "cell_type": "code",
   "execution_count": 134,
   "id": "f2540bf7",
   "metadata": {},
   "outputs": [],
   "source": [
    "graph = graph_builder.compile()"
   ]
  },
  {
   "cell_type": "code",
   "execution_count": null,
   "id": "7e3318c4",
   "metadata": {},
   "outputs": [],
   "source": [
    "sample_input = {\n",
    "    \"id\": \"33dc47d9b2ed42f4b769c3d225ea2d4c\",\n",
    "    \"session_name\": \"Test Session\",\n",
    "    \"files\": [],\n",
    "    \"messages\": [\n",
    "        # {\"role\": \"user\", \"content\": \"suggest me a schema to extract information from the given data\"},\n",
    "        # {'role': 'user', 'content': 'Can you add a new event with name \"Annual Meeting\", date \"2023-10-15\", and location \"New York\"?'},\n",
    "                # {\"role\": \"user\", \"content\": \"extract the event details from the given data, including the event name, date, and location.\"},\n",
    "    ],\n",
    "    \"invoke\": \"message\"\n",
    "}"
   ]
  },
  {
   "cell_type": "code",
   "execution_count": 136,
   "id": "81359bf3",
   "metadata": {},
   "outputs": [
    {
     "name": "stdout",
     "output_type": "stream",
     "text": [
      "state message\n",
      "state message\n",
      "state ExtractData\n",
      "state ExtractData\n"
     ]
    }
   ],
   "source": [
    "output = graph.invoke(sample_input)"
   ]
  },
  {
   "cell_type": "code",
   "execution_count": null,
   "id": "8e31c534",
   "metadata": {},
   "outputs": [
    {
     "name": "stdout",
     "output_type": "stream",
     "text": [
      "id\n",
      "session_name\n",
      "files\n",
      "messages\n",
      "invoke\n"
     ]
    }
   ],
   "source": [
    "for event in output:\n",
    "    print(event)"
   ]
  },
  {
   "cell_type": "code",
   "execution_count": null,
   "id": "a55843ff",
   "metadata": {},
   "outputs": [],
   "source": []
  },
  {
   "cell_type": "code",
   "execution_count": null,
   "id": "252e0a7b",
   "metadata": {},
   "outputs": [],
   "source": []
  }
 ],
 "metadata": {
  "kernelspec": {
   "display_name": "htf",
   "language": "python",
   "name": "python3"
  },
  "language_info": {
   "codemirror_mode": {
    "name": "ipython",
    "version": 3
   },
   "file_extension": ".py",
   "mimetype": "text/x-python",
   "name": "python",
   "nbconvert_exporter": "python",
   "pygments_lexer": "ipython3",
   "version": "3.10.16"
  }
 },
 "nbformat": 4,
 "nbformat_minor": 5
}
